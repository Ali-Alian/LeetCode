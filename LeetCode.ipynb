{
 "cells": [
  {
   "cell_type": "code",
   "execution_count": 18,
   "id": "122a0301-de89-4dc9-99a8-fdf15d09124a",
   "metadata": {},
   "outputs": [],
   "source": [
    "from typing import List"
   ]
  },
  {
   "cell_type": "code",
   "execution_count": 23,
   "id": "09175043-09ab-432e-885a-89d794cc3a20",
   "metadata": {},
   "outputs": [],
   "source": [
    "class Solution:\n",
    "    def twoSum(self, nums: List[int], target: int) -> List[int]:\n",
    "        val = {}\n",
    "        # first = 0\n",
    "        for i in range(len(nums)):\n",
    "            num = target - nums[i]\n",
    "            if num in val:\n",
    "                return [val[num], i]\n",
    "            val[nums[i]] = i\n",
    "            # first += 1"
   ]
  },
  {
   "cell_type": "code",
   "execution_count": 24,
   "id": "3c9cb798-f4de-4ec9-94e7-3fa94493b706",
   "metadata": {},
   "outputs": [
    {
     "name": "stdout",
     "output_type": "stream",
     "text": [
      "[0, 1]\n"
     ]
    }
   ],
   "source": [
    "solution = Solution()\n",
    "nums = [2, 7, 11, 15]\n",
    "target = 9\n",
    "sol = Solution()\n",
    "print(sol.twoSum(nums, target))"
   ]
  },
  {
   "cell_type": "code",
   "execution_count": 3,
   "id": "74f2be65-ab4d-481e-8034-d91b2eae44c3",
   "metadata": {},
   "outputs": [
    {
     "name": "stdout",
     "output_type": "stream",
     "text": [
      "3\n",
      "2\n",
      "1\n",
      "1. 0 2. 1\n"
     ]
    }
   ],
   "source": [
    "last = len(nums) - 1\n",
    "first = 0\n",
    "print(last)\n",
    "while first < last:\n",
    "    z = nums[first] + nums[last]\n",
    "    if z == 9:\n",
    "        print(f\"1. {first} 2. {last}\")\n",
    "        break\n",
    "    elif z > 9:\n",
    "        last = last - 1\n",
    "        print(last)\n",
    "    else:\n",
    "        first = first + 1\n"
   ]
  },
  {
   "cell_type": "code",
   "execution_count": 27,
   "id": "943bdb03-cbf9-4b2b-9b5f-a2d148a12ee0",
   "metadata": {},
   "outputs": [
    {
     "name": "stdout",
     "output_type": "stream",
     "text": [
      "6\n",
      "98\n"
     ]
    }
   ],
   "source": [
    "x = 5\n",
    "y = 3 \n",
    "result = x ^ y\n",
    "\n",
    "print(result)\n",
    "\n",
    "num = 101\n",
    "power = 3\n",
    "mask = (2 ** power) - 1  # This gives 7\n",
    "result = num ^ mask      # XOR operation\n",
    "print(result)\n"
   ]
  },
  {
   "cell_type": "code",
   "execution_count": 48,
   "id": "ce6e755d-7faa-4c59-9a8a-79ad34aa1b40",
   "metadata": {},
   "outputs": [
    {
     "name": "stdout",
     "output_type": "stream",
     "text": [
      "[0, 1, 0]\n",
      "2\n"
     ]
    }
   ],
   "source": [
    "x = 5\n",
    "ar = []\n",
    "flip = []\n",
    "while x > 0:\n",
    "    n = x%2\n",
    "    ar.append(n)\n",
    "    x = x //2\n",
    "\n",
    "for i in ar:\n",
    "    if i == 1:\n",
    "        flip.append(0)\n",
    "    elif i == 0:\n",
    "        flip.append(1)\n",
    "print(flip)\n",
    "total = 0\n",
    "for i in reversed(flip):\n",
    "    total = total*2\n",
    "    if i == 1:\n",
    "        total +=1\n",
    "print(total)\n",
    "    "
   ]
  },
  {
   "cell_type": "code",
   "execution_count": 19,
   "id": "040506b6-4a83-4eaa-852f-c38742984bf0",
   "metadata": {},
   "outputs": [
    {
     "name": "stdout",
     "output_type": "stream",
     "text": [
      "8\n",
      "[2, 2, 2, 2]\n"
     ]
    }
   ],
   "source": [
    "s = \"00110011\"\n",
    "print(len(s))\n",
    "li = []\n",
    "count = 1\n",
    "for i in range(1, len(s)):\n",
    "\n",
    "    if s[i] == s[i-1]:\n",
    "        count+=1\n",
    "    else:\n",
    "        li.append(count)\n",
    "        count=1\n",
    "li.append(count)\n",
    "\n",
    "print(li)"
   ]
  },
  {
   "cell_type": "code",
   "execution_count": 29,
   "id": "16c62b15-0fae-4f21-9180-fb78d773f282",
   "metadata": {},
   "outputs": [],
   "source": [
    "class Solution:\n",
    "    def countBinarySubstrings(self, s: str) -> int:\n",
    "        group = []\n",
    "        count = 1\n",
    "        for i in range(1, len(s)):\n",
    "            if s[i] == s[i-1]:\n",
    "                count+=1\n",
    "            else:\n",
    "                group.append(count)\n",
    "                count = 1\n",
    "        group.append(count)\n",
    "        answer = 0\n",
    "        for i in range(len(group) - 1 ):\n",
    "            pair = min(group[i], group[i+1])\n",
    "            answer = answer+pair\n",
    "                    \n",
    "        return answer"
   ]
  },
  {
   "cell_type": "code",
   "execution_count": 56,
   "id": "38935115-9e61-46cf-b665-39226ef3ceb8",
   "metadata": {},
   "outputs": [
    {
     "name": "stdout",
     "output_type": "stream",
     "text": [
      "start: [10, 15, 16]\n",
      "end: [15, 16, 25]\n",
      "1\n"
     ]
    }
   ],
   "source": [
    "# meeting1 = [[0,30],[5,10],[15,20]]\n",
    "meeting = [[15,16],[10,15],[16,25]]\n",
    "start = []\n",
    "end = []\n",
    "room = 0\n",
    "for i, j in meeting:\n",
    "    start.append(i)\n",
    "    end.append(j)\n",
    "start.sort()\n",
    "end.sort()\n",
    "print(f\"start: {start}\")\n",
    "print(f\"end: {end}\")\n",
    "s_point = 0\n",
    "e_point = 0\n",
    "while s_point < len(start):\n",
    "    if start[s_point] < end[e_point]:\n",
    "        room+=1\n",
    "        s_point+=1\n",
    "    else:\n",
    "        e_point+=1\n",
    "        s_point+=1\n",
    "print(room)\n",
    "    \n",
    "    \n"
   ]
  },
  {
   "cell_type": "code",
   "execution_count": 115,
   "id": "4198b500-0606-4525-90a6-322f0840790e",
   "metadata": {},
   "outputs": [
    {
     "name": "stdout",
     "output_type": "stream",
     "text": [
      "0\n",
      "\n",
      "\n",
      "{'a': 1, 's': 1, 'd': 1}\n",
      "{'a': 1, 's': 1, 'd': 1}\n"
     ]
    }
   ],
   "source": [
    "s = \"asd\"\n",
    "t = \"asd\"\n",
    "# c = len(s) - 1\n",
    "dic_s = {}\n",
    "dic_t = {}\n",
    "for i in s:\n",
    "    if i in dic_s:\n",
    "        dic_s[i]+=1\n",
    "    else:\n",
    "        dic_s[i] = 1\n",
    "for i in t:\n",
    "    if i in dic_t:\n",
    "        dic_t[i]+=1\n",
    "    else:\n",
    "        dic_t[i] = 1\n",
    "total = 0\n",
    "for ch in dic_s:\n",
    "    count_s = dic_s[ch]\n",
    "    if ch in dic_t:\n",
    "        count_t = dic_t[ch]\n",
    "    else:\n",
    "        count_t = 0\n",
    "    if count_s > count_t:\n",
    "        total += (count_s - count_t)\n",
    "\n",
    "    \n",
    "print(total)\n",
    "\n",
    "\n",
    "\n",
    "\n",
    "\n",
    "\n",
    "    \n",
    "print(\"\\n\")\n",
    "print(dic_s)\n",
    "print(dic_t)\n",
    "# for key, val in dic_s:\n",
    "#     print(key)\n",
    "        \n",
    "        \n",
    "        \n",
    "        "
   ]
  },
  {
   "cell_type": "code",
   "execution_count": null,
   "id": "210dd320-4fad-4232-ac04-dfb09fcb6d61",
   "metadata": {},
   "outputs": [],
   "source": [
    "dict_s = dict(Counter(s))\n",
    "        dict_t = dict(Counter(t))\n",
    "        if dict_s == dict_t:\n",
    "            return 0\n",
    "        \n",
    "        for key, value in "
   ]
  },
  {
   "cell_type": "code",
   "execution_count": null,
   "id": "ba2a7875-c23c-4695-bd83-43996160950f",
   "metadata": {},
   "outputs": [],
   "source": []
  },
  {
   "cell_type": "code",
   "execution_count": null,
   "id": "0b1cfccb-4457-4bba-9c6d-a83d3e6be8cc",
   "metadata": {},
   "outputs": [],
   "source": []
  },
  {
   "cell_type": "code",
   "execution_count": null,
   "id": "5b998141-69a9-4deb-9651-f7449c61b020",
   "metadata": {},
   "outputs": [],
   "source": []
  },
  {
   "cell_type": "code",
   "execution_count": null,
   "id": "6e8ac78c-0a7f-46ce-980a-a2f47225b9c4",
   "metadata": {},
   "outputs": [],
   "source": []
  },
  {
   "cell_type": "code",
   "execution_count": null,
   "id": "60fd53d7-0117-45e8-a364-aa4f54c207c8",
   "metadata": {},
   "outputs": [],
   "source": []
  },
  {
   "cell_type": "code",
   "execution_count": null,
   "id": "bc03dede-358d-4af6-b38a-4cad33fc0dc2",
   "metadata": {},
   "outputs": [],
   "source": []
  },
  {
   "cell_type": "code",
   "execution_count": null,
   "id": "c4f04d71-8fcc-431a-8294-ae73577d3ca2",
   "metadata": {},
   "outputs": [],
   "source": []
  },
  {
   "cell_type": "code",
   "execution_count": null,
   "id": "19f97af2-5574-4f50-87a5-a0b1cea36850",
   "metadata": {},
   "outputs": [],
   "source": []
  },
  {
   "cell_type": "code",
   "execution_count": null,
   "id": "8883a5cd-7419-4941-8c24-d347864cafb9",
   "metadata": {},
   "outputs": [],
   "source": []
  },
  {
   "cell_type": "code",
   "execution_count": null,
   "id": "68feb13e-c511-4bab-9059-9b6cca6c6748",
   "metadata": {},
   "outputs": [],
   "source": []
  },
  {
   "cell_type": "code",
   "execution_count": null,
   "id": "d9f5581e-baa6-445f-83c1-11413b290aef",
   "metadata": {},
   "outputs": [],
   "source": []
  },
  {
   "cell_type": "code",
   "execution_count": null,
   "id": "5f78ec06-aee6-40d8-bc57-081fd01efdd1",
   "metadata": {},
   "outputs": [],
   "source": []
  },
  {
   "cell_type": "code",
   "execution_count": null,
   "id": "42f54b25-e292-443e-81dc-b3431f935d69",
   "metadata": {},
   "outputs": [],
   "source": []
  },
  {
   "cell_type": "code",
   "execution_count": null,
   "id": "8e4a9a47-07cf-49ac-9133-5a0ee12f7e85",
   "metadata": {},
   "outputs": [],
   "source": []
  },
  {
   "cell_type": "code",
   "execution_count": null,
   "id": "43fd9c25-8318-4bcf-bc17-c71d0fd0729a",
   "metadata": {},
   "outputs": [],
   "source": []
  },
  {
   "cell_type": "code",
   "execution_count": null,
   "id": "aa79991e-e039-468b-bf67-eef44bc131b5",
   "metadata": {},
   "outputs": [],
   "source": []
  },
  {
   "cell_type": "code",
   "execution_count": null,
   "id": "60dcbfb0-3a34-4dfc-9a3f-34bea03cba58",
   "metadata": {},
   "outputs": [],
   "source": []
  },
  {
   "cell_type": "code",
   "execution_count": null,
   "id": "a1661606-5375-4344-9030-250d64a76113",
   "metadata": {},
   "outputs": [],
   "source": []
  },
  {
   "cell_type": "code",
   "execution_count": null,
   "id": "744cb6b3-25d5-4cba-a09c-222064a4ab21",
   "metadata": {},
   "outputs": [],
   "source": []
  },
  {
   "cell_type": "code",
   "execution_count": null,
   "id": "6bd8a6c8-2499-4044-9f86-bc4f9d556487",
   "metadata": {},
   "outputs": [],
   "source": []
  }
 ],
 "metadata": {
  "kernelspec": {
   "display_name": "Python 3 (ipykernel)",
   "language": "python",
   "name": "python3"
  },
  "language_info": {
   "codemirror_mode": {
    "name": "ipython",
    "version": 3
   },
   "file_extension": ".py",
   "mimetype": "text/x-python",
   "name": "python",
   "nbconvert_exporter": "python",
   "pygments_lexer": "ipython3",
   "version": "3.13.1"
  }
 },
 "nbformat": 4,
 "nbformat_minor": 5
}
