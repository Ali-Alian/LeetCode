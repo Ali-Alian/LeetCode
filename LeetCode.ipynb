{
 "cells": [
  {
   "cell_type": "code",
   "execution_count": 18,
   "id": "122a0301-de89-4dc9-99a8-fdf15d09124a",
   "metadata": {},
   "outputs": [],
   "source": [
    "from typing import List"
   ]
  },
  {
   "cell_type": "code",
   "execution_count": 23,
   "id": "09175043-09ab-432e-885a-89d794cc3a20",
   "metadata": {},
   "outputs": [],
   "source": [
    "class Solution:\n",
    "    def twoSum(self, nums: List[int], target: int) -> List[int]:\n",
    "        val = {}\n",
    "        # first = 0\n",
    "        for i in range(len(nums)):\n",
    "            num = target - nums[i]\n",
    "            if num in val:\n",
    "                return [val[num], i]\n",
    "            val[nums[i]] = i\n",
    "            # first += 1"
   ]
  },
  {
   "cell_type": "code",
   "execution_count": 24,
   "id": "3c9cb798-f4de-4ec9-94e7-3fa94493b706",
   "metadata": {},
   "outputs": [
    {
     "name": "stdout",
     "output_type": "stream",
     "text": [
      "[0, 1]\n"
     ]
    }
   ],
   "source": [
    "solution = Solution()\n",
    "nums = [2, 7, 11, 15]\n",
    "target = 9\n",
    "sol = Solution()\n",
    "print(sol.twoSum(nums, target))"
   ]
  },
  {
   "cell_type": "code",
   "execution_count": 3,
   "id": "74f2be65-ab4d-481e-8034-d91b2eae44c3",
   "metadata": {},
   "outputs": [
    {
     "name": "stdout",
     "output_type": "stream",
     "text": [
      "3\n",
      "2\n",
      "1\n",
      "1. 0 2. 1\n"
     ]
    }
   ],
   "source": [
    "last = len(nums) - 1\n",
    "first = 0\n",
    "print(last)\n",
    "while first < last:\n",
    "    z = nums[first] + nums[last]\n",
    "    if z == 9:\n",
    "        print(f\"1. {first} 2. {last}\")\n",
    "        break\n",
    "    elif z > 9:\n",
    "        last = last - 1\n",
    "        print(last)\n",
    "    else:\n",
    "        first = first + 1\n"
   ]
  },
  {
   "cell_type": "code",
   "execution_count": null,
   "id": "943bdb03-cbf9-4b2b-9b5f-a2d148a12ee0",
   "metadata": {},
   "outputs": [],
   "source": [
    "nums = [2,7,11,15]\n",
    "\n",
    "output = {}\n",
    "for i in range(len(nums)):\n",
    "    for num in i:\n",
    "        print(num)"
   ]
  },
  {
   "cell_type": "code",
   "execution_count": null,
   "id": "ce6e755d-7faa-4c59-9a8a-79ad34aa1b40",
   "metadata": {},
   "outputs": [],
   "source": []
  }
 ],
 "metadata": {
  "kernelspec": {
   "display_name": "Python 3 (ipykernel)",
   "language": "python",
   "name": "python3"
  },
  "language_info": {
   "codemirror_mode": {
    "name": "ipython",
    "version": 3
   },
   "file_extension": ".py",
   "mimetype": "text/x-python",
   "name": "python",
   "nbconvert_exporter": "python",
   "pygments_lexer": "ipython3",
   "version": "3.13.1"
  }
 },
 "nbformat": 4,
 "nbformat_minor": 5
}
