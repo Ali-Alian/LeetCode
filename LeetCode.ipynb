{
 "cells": [
  {
   "cell_type": "code",
   "execution_count": 18,
   "id": "122a0301-de89-4dc9-99a8-fdf15d09124a",
   "metadata": {},
   "outputs": [],
   "source": [
    "from typing import List"
   ]
  },
  {
   "cell_type": "code",
   "execution_count": 23,
   "id": "09175043-09ab-432e-885a-89d794cc3a20",
   "metadata": {},
   "outputs": [],
   "source": [
    "class Solution:\n",
    "    def twoSum(self, nums: List[int], target: int) -> List[int]:\n",
    "        val = {}\n",
    "        # first = 0\n",
    "        for i in range(len(nums)):\n",
    "            num = target - nums[i]\n",
    "            if num in val:\n",
    "                return [val[num], i]\n",
    "            val[nums[i]] = i\n",
    "            # first += 1"
   ]
  },
  {
   "cell_type": "code",
   "execution_count": 24,
   "id": "3c9cb798-f4de-4ec9-94e7-3fa94493b706",
   "metadata": {},
   "outputs": [
    {
     "name": "stdout",
     "output_type": "stream",
     "text": [
      "[0, 1]\n"
     ]
    }
   ],
   "source": [
    "solution = Solution()\n",
    "nums = [2, 7, 11, 15]\n",
    "target = 9\n",
    "sol = Solution()\n",
    "print(sol.twoSum(nums, target))"
   ]
  },
  {
   "cell_type": "code",
   "execution_count": 3,
   "id": "74f2be65-ab4d-481e-8034-d91b2eae44c3",
   "metadata": {},
   "outputs": [
    {
     "name": "stdout",
     "output_type": "stream",
     "text": [
      "3\n",
      "2\n",
      "1\n",
      "1. 0 2. 1\n"
     ]
    }
   ],
   "source": [
    "last = len(nums) - 1\n",
    "first = 0\n",
    "print(last)\n",
    "while first < last:\n",
    "    z = nums[first] + nums[last]\n",
    "    if z == 9:\n",
    "        print(f\"1. {first} 2. {last}\")\n",
    "        break\n",
    "    elif z > 9:\n",
    "        last = last - 1\n",
    "        print(last)\n",
    "    else:\n",
    "        first = first + 1\n"
   ]
  },
  {
   "cell_type": "code",
   "execution_count": 27,
   "id": "943bdb03-cbf9-4b2b-9b5f-a2d148a12ee0",
   "metadata": {},
   "outputs": [
    {
     "name": "stdout",
     "output_type": "stream",
     "text": [
      "6\n",
      "98\n"
     ]
    }
   ],
   "source": [
    "x = 5\n",
    "y = 3 \n",
    "result = x ^ y\n",
    "\n",
    "print(result)\n",
    "\n",
    "num = 101\n",
    "power = 3\n",
    "mask = (2 ** power) - 1  # This gives 7\n",
    "result = num ^ mask      # XOR operation\n",
    "print(result)\n"
   ]
  },
  {
   "cell_type": "code",
   "execution_count": 48,
   "id": "ce6e755d-7faa-4c59-9a8a-79ad34aa1b40",
   "metadata": {},
   "outputs": [
    {
     "name": "stdout",
     "output_type": "stream",
     "text": [
      "[0, 1, 0]\n",
      "2\n"
     ]
    }
   ],
   "source": [
    "x = 5\n",
    "ar = []\n",
    "flip = []\n",
    "while x > 0:\n",
    "    n = x%2\n",
    "    ar.append(n)\n",
    "    x = x //2\n",
    "\n",
    "for i in ar:\n",
    "    if i == 1:\n",
    "        flip.append(0)\n",
    "    elif i == 0:\n",
    "        flip.append(1)\n",
    "print(flip)\n",
    "total = 0\n",
    "for i in reversed(flip):\n",
    "    total = total*2\n",
    "    if i == 1:\n",
    "        total +=1\n",
    "print(total)\n",
    "    "
   ]
  },
  {
   "cell_type": "code",
   "execution_count": null,
   "id": "040506b6-4a83-4eaa-852f-c38742984bf0",
   "metadata": {},
   "outputs": [],
   "source": []
  }
 ],
 "metadata": {
  "kernelspec": {
   "display_name": "Python 3 (ipykernel)",
   "language": "python",
   "name": "python3"
  },
  "language_info": {
   "codemirror_mode": {
    "name": "ipython",
    "version": 3
   },
   "file_extension": ".py",
   "mimetype": "text/x-python",
   "name": "python",
   "nbconvert_exporter": "python",
   "pygments_lexer": "ipython3",
   "version": "3.13.1"
  }
 },
 "nbformat": 4,
 "nbformat_minor": 5
}
